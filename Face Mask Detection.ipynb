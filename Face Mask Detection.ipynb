{
  "cells": [
    {
      "cell_type": "markdown",
      "id": "73072684",
      "metadata": {
        "id": "73072684"
      },
      "source": [
        "# 🧪 Laboratório Experimental do SPI (Lex)\n",
        "### Sistema de Detecção de Máscaras Faciais com MobileNetV2"
      ]
    },
    {
      "cell_type": "markdown",
      "id": "1d9e2a06",
      "metadata": {
        "id": "1d9e2a06"
      },
      "source": [
        "## 📘 Introdução\n",
        "\n",
        "Este experimento propõe uma aula prática de Processamento Digital de Imagens (PDI), utilizando um Sistema de Processamento de Imagens (SPI) baseado em inteligência artificial para detectar automaticamente, em tempo real, se uma pessoa está **usando ou não máscara facial**.\n",
        "\n",
        "O sistema foi desenvolvido com a técnica de *transfer learning* usando a arquitetura **MobileNetV2**, e treinado com imagens de rostos com e sem máscara. A detecção de rosto é feita com a biblioteca **MediaPipe** e a classificação é realizada com um modelo de deep learning.\n",
        "\n",
        "### 🎯 Objetivo\n",
        "Demonstrar a aplicação prática do SPI no reconhecimento de máscaras faciais a partir de imagens capturadas pela webcam do usuário, em tempo real, promovendo o entendimento do uso de redes neurais em PDI.\n"
      ]
    },
    {
      "cell_type": "markdown",
      "id": "c7cbeed2",
      "metadata": {
        "id": "c7cbeed2"
      },
      "source": [
        "### ✅ Pré-requisitos\n",
        "\n",
        "- Conta no Google\n",
        "- Permitir acesso à webcam no navegador\n",
        "- Conexão à internet\n",
        "- Dataset pré-carregado no Google Drive\n"
      ]
    },
    {
      "cell_type": "markdown",
      "id": "14bdad05",
      "metadata": {
        "id": "14bdad05"
      },
      "source": [
        "## 🧩 Etapas do Experimento\n",
        "\n",
        "### 🔹 Parte 2 – Uso Prático pelo Usuário (execução em tempo real)\n",
        "\n",
        "#### Caso de uso 1 – Captura de imagem com a webcam\n",
        "\n",
        "**Objetivo:** O usuário tirará uma foto de si mesmo e o sistema indicará se está ou não usando máscara.\n",
        "\n",
        "**Passos:**\n",
        "\n",
        "1. Rodar a célula de código \"📸 Tirar Foto\".\n",
        "2. Autorizar o uso da webcam.\n",
        "3. Tirar uma foto.\n",
        "4. O sistema detectará o(s) rosto(s), classificará cada um e mostrará o resultado com uma borda colorida:\n",
        "   - Verde: Com máscara\n",
        "   - Vermelho: Sem máscara\n"
      ]
    },
    {
      "cell_type": "markdown",
      "source": [
        "###📦 Célula 1: Instalação de bibliotecas\n",
        "Essa célula instala as bibliotecas necessárias para que o experimento funcione corretamente:\n",
        "\n",
        "mediapipe: usada para detecção de rostos com a solução da Google.\n",
        "\n",
        "tensorflow: utilizado para carregar e rodar o modelo de IA.\n",
        "\n",
        "opencv-python-headless: versão leve do OpenCV usada para processamento de imagens no Colab.\n",
        "\n",
        "**Caso ocorra algum erro na execução da célula pressione as teclas Ctrl+M ou clique em Ambiente de execução e reiniciar sessão **"
      ],
      "metadata": {
        "id": "caKLZvllJ8jJ"
      },
      "id": "caKLZvllJ8jJ"
    },
    {
      "cell_type": "code",
      "execution_count": 1,
      "id": "d266f5af",
      "metadata": {
        "id": "d266f5af"
      },
      "outputs": [],
      "source": [
        "!pip install mediapipe tensorflow opencv-python-headless --quiet"
      ]
    },
    {
      "cell_type": "markdown",
      "source": [
        "###📚 Célula 2: Importação de bibliotecas\n",
        "Essa célula importa todas as bibliotecas usadas no sistema:\n",
        "\n",
        "os: manipulação de arquivos.\n",
        "\n",
        "cv2: biblioteca do OpenCV para processamento de imagens.\n",
        "\n",
        "time: usada para pausas no fluxo do experimento.\n",
        "\n",
        "numpy: manipulação de arrays e matrizes.\n",
        "\n",
        "matplotlib.pyplot: exibição de gráficos e imagens (pouco usada nesse experimento).\n",
        "\n",
        "mediapipe: usada para detectar rostos em tempo real.\n",
        "\n",
        "tensorflow.keras.models.load_model: carrega o modelo treinado.\n",
        "\n",
        "IPython.display: permite exibir imagens, HTML e JavaScript no notebook.\n",
        "\n",
        "eval_js e Javascript: usados para capturar imagem da webcam via navegador no Colab.\n",
        "\n",
        "b64decode: decodifica a imagem capturada da webcam em base64."
      ],
      "metadata": {
        "id": "369M1psKKS3P"
      },
      "id": "369M1psKKS3P"
    },
    {
      "cell_type": "code",
      "execution_count": 2,
      "id": "ac5bf76b",
      "metadata": {
        "id": "ac5bf76b"
      },
      "outputs": [],
      "source": [
        "import os, cv2, time, numpy as np, matplotlib.pyplot as plt, mediapipe as mp\n",
        "from tensorflow.keras.models import load_model\n",
        "from IPython.display import display, Javascript, Image\n",
        "from google.colab.output import eval_js\n",
        "from base64 import b64decode"
      ]
    },
    {
      "cell_type": "markdown",
      "source": [
        "###🖼️ Célula 3: Definição do tamanho padrão da imagem\n",
        "Define a dimensão padrão (100x100 pixels) para as imagens que serão passadas ao modelo. Isso garante que todas as imagens de rostos detectados sejam redimensionadas corretamente para entrada no modelo de IA."
      ],
      "metadata": {
        "id": "SDmkwKbpLIJl"
      },
      "id": "SDmkwKbpLIJl"
    },
    {
      "cell_type": "code",
      "source": [
        "IMG_SIZE = 100"
      ],
      "metadata": {
        "id": "9kCd-bTgLXtp"
      },
      "id": "9kCd-bTgLXtp",
      "execution_count": 3,
      "outputs": []
    },
    {
      "cell_type": "markdown",
      "source": [
        "###🤖 Célula 4: Carregamento do modelo treinado\n",
        "Essa célula carrega o modelo de detecção de máscara facial:\n",
        "\n",
        "Verifica se o arquivo Modelo.h5 já existe.\n",
        "\n",
        "Se não existir, faz o download direto do GitHub.\n",
        "\n",
        "Em seguida, carrega o modelo com load_model para uso posterior na classificação das imagens capturadas.\n",
        "\n"
      ],
      "metadata": {
        "id": "HTqLD8n7LZYq"
      },
      "id": "HTqLD8n7LZYq"
    },
    {
      "cell_type": "code",
      "execution_count": null,
      "id": "c8de25be",
      "metadata": {
        "id": "c8de25be"
      },
      "outputs": [],
      "source": [
        "modelo_path = \"/content/Modelo.h5\"\n",
        "if not os.path.exists(modelo_path):\n",
        "    print(\"⬇️ Baixando modelo do GitHub...\")\n",
        "    import urllib.request\n",
        "    urllib.request.urlretrieve(\"https://raw.githubusercontent.com/Kinhasne/Face-Mask-Detection/main/Modelo.h5\", modelo_path)\n",
        "modelo = load_model(modelo_path)\n",
        "print(\"✅ Modelo carregado com sucesso!\")"
      ]
    },
    {
      "cell_type": "markdown",
      "source": [
        "###📸 Célula 5: Função para capturar foto via webcam\n",
        "Define a função tirar_foto, responsável por:\n",
        "\n",
        "Executar um código JavaScript que ativa a câmera do navegador.\n",
        "\n",
        "Capturar uma imagem e enviá-la de volta ao Python.\n",
        "\n",
        "Decodificar e salvar essa imagem localmente no Colab.\n",
        "\n",
        "Exibir a imagem capturada.\n",
        "\n",
        "Retornar o caminho da imagem para uso posterior.\n",
        "\n"
      ],
      "metadata": {
        "id": "IFSTmb4KLiU1"
      },
      "id": "IFSTmb4KLiU1"
    },
    {
      "cell_type": "code",
      "execution_count": 5,
      "id": "dd9a5e60",
      "metadata": {
        "id": "dd9a5e60"
      },
      "outputs": [],
      "source": [
        "def tirar_foto(filename='/content/foto.jpg', quality=0.8):\n",
        "  js = Javascript('''\n",
        "    async function takePhoto(quality) {\n",
        "      const div = document.createElement('div');\n",
        "      const capture = document.createElement('button');\n",
        "      capture.textContent = '📸 Capturar Foto';\n",
        "      capture.style.fontSize = '20px';\n",
        "      capture.style.padding = '10px';\n",
        "      capture.style.marginTop = '10px';\n",
        "      div.appendChild(capture);\n",
        "      const video = document.createElement('video');\n",
        "      video.style.display = 'block';\n",
        "      video.style.marginTop = '10px';\n",
        "      const stream = await navigator.mediaDevices.getUserMedia({video: true});\n",
        "      document.body.appendChild(div);\n",
        "      div.appendChild(video);\n",
        "      video.srcObject = stream;\n",
        "      await video.play();\n",
        "      google.colab.output.setIframeHeight(document.documentElement.scrollHeight, true);\n",
        "      await new Promise((resolve) => capture.onclick = resolve);\n",
        "      const canvas = document.createElement('canvas');\n",
        "      canvas.width = video.videoWidth;\n",
        "      canvas.height = video.videoHeight;\n",
        "      canvas.getContext('2d').drawImage(video, 0, 0);\n",
        "      stream.getTracks().forEach(t => t.stop());\n",
        "      div.remove();\n",
        "      return canvas.toDataURL('image/jpeg', quality);\n",
        "    }\n",
        "  ''')\n",
        "  display(js)\n",
        "  data = eval_js(f'takePhoto({quality})')\n",
        "  binary = b64decode(data.split(',')[1])\n",
        "  with open(filename, 'wb') as f:\n",
        "    f.write(binary)\n",
        "  print(f\"✅ Foto salva: {filename}\")\n",
        "  display(Image(filename))\n",
        "  return filename"
      ]
    },
    {
      "cell_type": "markdown",
      "source": [
        "###🧠 Célula 6: Função de detecção de rosto e classificação com o modelo\n",
        "Essa função realiza as seguintes etapas:\n",
        "\n",
        "Leitura e conversão da imagem: carrega a imagem capturada e converte de BGR para RGB (formato exigido pelo MediaPipe).\n",
        "\n",
        "Inicialização do detector MediaPipe: configura o detector de rostos.\n",
        "\n",
        "Processamento da imagem: detecta rostos na imagem.\n",
        "\n",
        "Para cada rosto detectado:\n",
        "\n",
        "Extrai a área do rosto (bounding box).\n",
        "\n",
        "Redimensiona e normaliza a imagem do rosto.\n",
        "\n",
        "Passa o rosto pelo modelo para prever se está com ou sem máscara.\n",
        "\n",
        "Exibe o resultado na imagem com um retângulo colorido e texto explicativo.\n",
        "\n",
        "Salva e exibe o resultado final."
      ],
      "metadata": {
        "id": "CrRIn26ALtAz"
      },
      "id": "CrRIn26ALtAz"
    },
    {
      "cell_type": "code",
      "execution_count": 6,
      "id": "14c213ae",
      "metadata": {
        "id": "14c213ae"
      },
      "outputs": [],
      "source": [
        "def detectar_mascara(foto_path):\n",
        "  imagem = cv2.imread(foto_path)\n",
        "  imagem_rgb = cv2.cvtColor(imagem, cv2.COLOR_BGR2RGB)\n",
        "  mp_face = mp.solutions.face_detection\n",
        "  detector = mp_face.FaceDetection(model_selection=1, min_detection_confidence=0.6)\n",
        "  resultados = detector.process(imagem_rgb)\n",
        "  if not resultados.detections:\n",
        "    print(\"❌ Nenhum rosto detectado.\")\n",
        "    return\n",
        "  h, w, _ = imagem.shape\n",
        "  imagem_resultado = imagem_rgb.copy()\n",
        "  for i, deteccao in enumerate(resultados.detections):\n",
        "    box = deteccao.location_data.relative_bounding_box\n",
        "    x = int(box.xmin * w)\n",
        "    y = int(box.ymin * h)\n",
        "    largura = int(box.width * w)\n",
        "    altura = int(box.height * h)\n",
        "    pad = 20\n",
        "    x1, y1 = max(0, x - pad), max(0, y - pad)\n",
        "    x2, y2 = min(w, x + largura + pad), min(h, y + altura + pad)\n",
        "    face_crop = imagem_rgb[y1:y2, x1:x2]\n",
        "    if face_crop.size == 0:\n",
        "      continue\n",
        "    face_crop = cv2.resize(face_crop, (IMG_SIZE, IMG_SIZE)) / 255.0\n",
        "    face_crop = np.expand_dims(face_crop, axis=0)\n",
        "    pred = modelo.predict(face_crop)[0]\n",
        "    classe = np.argmax(pred)\n",
        "    conf = pred[classe] * 100\n",
        "    status = \"Com mascara\" if classe == 1 else \"Sem mascara\"\n",
        "    cor = (0, 255, 0) if classe == 1 else (255, 0, 0)\n",
        "    print(f\"🔍 Rosto {i+1}: {status} ({conf:.2f}%)\")\n",
        "    cv2.rectangle(imagem_resultado, (x1, y1), (x2, y2), cor, 2)\n",
        "    cv2.putText(imagem_resultado, f\"{status} ({conf:.1f}%)\", (x1, y1 - 10),\n",
        "                cv2.FONT_HERSHEY_SIMPLEX, 0.6, cor, 2)\n",
        "  plt.figure(figsize=(10, 8))\n",
        "  plt.imshow(imagem_resultado)\n",
        "  plt.axis('off')\n",
        "  plt.title(\"Resultado da Detecção\")\n",
        "  plt.show()"
      ]
    },
    {
      "cell_type": "markdown",
      "source": [
        "### 📸 Célula 7: Captura da Foto\n",
        "Essas três linhas representam o fluxo completo de capturar uma imagem ao vivo do usuário, esperar que a imagem seja salva corretamente e então classificá-la automaticamente para indicar se há ou não o uso de máscara facial.\n",
        "\n",
        "**Caso queira testar mais de uma vez, basta executar a célula várias vezes.**\n",
        "\n",
        "**Tire a foto em um ambiente bem iluminado para melhorar a precisão do resultado.**"
      ],
      "metadata": {
        "id": "LmWf47feMU2Y"
      },
      "id": "LmWf47feMU2Y"
    },
    {
      "cell_type": "code",
      "execution_count": null,
      "id": "98814ce6",
      "metadata": {
        "id": "98814ce6"
      },
      "outputs": [],
      "source": [
        "caminho = tirar_foto()\n",
        "time.sleep(1)\n",
        "detectar_mascara(caminho)"
      ]
    },
    {
      "cell_type": "markdown",
      "source": [
        "#📋Face Mask Detection - Questionário\n",
        "Por favor, execute a célula abaixo e clique no link para acessar nosso formulário. Sua opinião é muito importante para nós!\n",
        "\n",
        "Agradecemos seu feedback sobre nosso trabalho.\n"
      ],
      "metadata": {
        "id": "xv1xp8elWQYJ"
      },
      "id": "xv1xp8elWQYJ"
    },
    {
      "cell_type": "code",
      "source": [
        "from IPython.display import display, HTML\n",
        "\n",
        "link_forms = \"https://forms.gle/UCyMqC7hg56JMPJg7\"\n",
        "\n",
        "display(HTML(f'<a href=\"{link_forms}\" target=\"_blank\">Clique aqui para preencher o questionário</a>'))\n"
      ],
      "metadata": {
        "id": "eQVIHs7yWXAr"
      },
      "id": "eQVIHs7yWXAr",
      "execution_count": null,
      "outputs": []
    }
  ],
  "metadata": {
    "colab": {
      "provenance": []
    },
    "language_info": {
      "name": "python"
    },
    "kernelspec": {
      "name": "python3",
      "display_name": "Python 3"
    }
  },
  "nbformat": 4,
  "nbformat_minor": 5
}